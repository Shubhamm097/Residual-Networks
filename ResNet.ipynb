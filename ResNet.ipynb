{
 "cells": [
  {
   "cell_type": "code",
   "execution_count": 1,
   "metadata": {},
   "outputs": [],
   "source": [
    "import torch\n",
    "import torch.nn as nn\n",
    "import torchvision\n",
    "import torchvision.transforms as transforms"
   ]
  },
  {
   "cell_type": "code",
   "execution_count": 38,
   "metadata": {},
   "outputs": [],
   "source": [
    "epochs = 10\n",
    "batch_size = 100\n",
    "learning_rate = 0.001"
   ]
  },
  {
   "cell_type": "code",
   "execution_count": 39,
   "metadata": {},
   "outputs": [],
   "source": [
    "transform = transforms.Compose([\n",
    "    transforms.Pad(4),\n",
    "    transforms.RandomHorizontalFlip(),\n",
    "    transforms.RandomCrop(32),\n",
    "    transforms.ToTensor()\n",
    "])"
   ]
  },
  {
   "cell_type": "code",
   "execution_count": 40,
   "metadata": {},
   "outputs": [],
   "source": [
    "train_dataset = torchvision.datasets.CIFAR10(root='./data2',\n",
    "                                            train=True,\n",
    "                                            transform = transform,\n",
    "                                            download=False)\n",
    "\n",
    "test_dataset = torchvision.datasets.CIFAR10(root='./data2',\n",
    "                                           train=False,\n",
    "                                           transform=transforms.ToTensor())"
   ]
  },
  {
   "cell_type": "code",
   "execution_count": 41,
   "metadata": {},
   "outputs": [],
   "source": [
    "train_loader = torch.utils.data.DataLoader(dataset=train_dataset,\n",
    "                                          batch_size=batch_size,\n",
    "                                          shuffle=True)\n",
    "\n",
    "test_loader = torch.utils.data.DataLoader(dataset=test_dataset,\n",
    "                                         batch_size=batch_size,\n",
    "                                         shuffle=False)"
   ]
  },
  {
   "cell_type": "code",
   "execution_count": 33,
   "metadata": {},
   "outputs": [],
   "source": [
    "def conv3(in_channels, out_channels, stride=1):\n",
    "    return nn.Conv2d(in_channels, out_channels, kernel_size=3, stride=stride, padding=1, bias=False)\n",
    "\n",
    "class ResidualBlock(nn.Module):\n",
    "    def __init__(self, in_channels, out_channels, stride=1, downsampling=None):\n",
    "        super(ResidualBlock, self).__init__()\n",
    "        self.conv1 = conv3(in_channels, out_channels, stride)\n",
    "        self.batchnorm1 = nn.BatchNorm2d(out_channels)\n",
    "        self.relu = nn.ReLU(inplace=True)\n",
    "#         Stride = 1 for every second block as we don't need downsampling.\n",
    "        self.conv2 = conv3(out_channels, out_channels)\n",
    "        self.batchnorm2 = nn.BatchNorm2d(out_channels)\n",
    "        self.downsampling = downsampling\n",
    "        \n",
    "    def forward(self, x):\n",
    "        residual = x\n",
    "        out = self.conv1(x)\n",
    "        out = self.batchnorm1(out)\n",
    "        out = self.relu(out)\n",
    "        out = self.conv2(out)\n",
    "        out = self.batchnorm2(out)\n",
    "        if self.downsampling:\n",
    "            residual = self.downsampling(x)\n",
    "        out += residual\n",
    "        out = self.relu(out)\n",
    "        return out"
   ]
  },
  {
   "cell_type": "code",
   "execution_count": 34,
   "metadata": {},
   "outputs": [],
   "source": [
    "class ResNet(nn.Module):\n",
    "    def __init__(self, block, layers, num_classes=10):\n",
    "        super(ResNet, self).__init__()\n",
    "        self.in_channels = 16\n",
    "        self.conv = conv3(3, 16)\n",
    "        self.batchnorm = nn.BatchNorm2d(16)\n",
    "        self.relu = nn.ReLU(inplace=True)\n",
    "        self.layer1 = self.make_layer(block, 16, layers[0], stride=1)\n",
    "        self.layer2 = self.make_layer(block, 32, layers[1], stride=2)\n",
    "        self.layer3 = self.make_layer(block, 64, layers[2], stride=2)\n",
    "        self.avgpool = nn.AvgPool2d(8)\n",
    "        self.fc = nn.Linear(64, num_classes)\n",
    "        \n",
    "    def make_layer(self, block, out_channels, blocks, stride=1):  \n",
    "        downsampling = None\n",
    "        if self.in_channels != out_channels or stride != 1:\n",
    "            downsampling = nn.Sequential(conv3(self.in_channels, out_channels, stride=stride), \n",
    "                                         nn.BatchNorm2d(out_channels))\n",
    "        layers = []\n",
    "        layers.append(block(self.in_channels, out_channels, stride=stride, downsampling=downsampling))\n",
    "        self.in_channels = out_channels\n",
    "#         residual_blocks.append(block(self.in_channels, out_channels))\n",
    "        for i in range(1, blocks):\n",
    "            layers.append(block(out_channels, out_channels))\n",
    "        return nn.Sequential(*layers)\n",
    "    \n",
    "    def forward(self, x):\n",
    "        out = self.conv(x)\n",
    "        out = self.batchnorm(out)\n",
    "        out = self.relu(out)\n",
    "        out = self.layer1(out)\n",
    "        out = self.layer2(out)\n",
    "        out = self.layer3(out)\n",
    "        out = self.avgpool(out)\n",
    "        out = out.view(out.size(0), -1)\n",
    "        out = self.fc(out)\n",
    "        return out"
   ]
  },
  {
   "cell_type": "code",
   "execution_count": 35,
   "metadata": {},
   "outputs": [],
   "source": [
    "model = ResNet(ResidualBlock, [2, 2, 2])\n",
    "loss_fn = nn.CrossEntropyLoss()\n",
    "optimizer = torch.optim.Adam(model.parameters(), lr=learning_rate)"
   ]
  },
  {
   "cell_type": "code",
   "execution_count": 36,
   "metadata": {},
   "outputs": [
    {
     "name": "stdout",
     "output_type": "stream",
     "text": [
      "Epoch [1/10], Step [100/500, Loss: 1.6692]\n",
      "Epoch [1/10], Step [200/500, Loss: 1.4826]\n",
      "Epoch [1/10], Step [300/500, Loss: 1.4013]\n",
      "Epoch [1/10], Step [400/500, Loss: 1.0333]\n",
      "Epoch [1/10], Step [500/500, Loss: 1.1044]\n",
      "Epoch [2/10], Step [100/500, Loss: 1.0362]\n",
      "Epoch [2/10], Step [200/500, Loss: 1.0260]\n",
      "Epoch [2/10], Step [300/500, Loss: 0.8174]\n",
      "Epoch [2/10], Step [400/500, Loss: 1.2424]\n",
      "Epoch [2/10], Step [500/500, Loss: 0.9576]\n",
      "Epoch [3/10], Step [100/500, Loss: 0.9696]\n",
      "Epoch [3/10], Step [200/500, Loss: 0.7976]\n",
      "Epoch [3/10], Step [300/500, Loss: 0.8118]\n",
      "Epoch [3/10], Step [400/500, Loss: 0.7949]\n",
      "Epoch [3/10], Step [500/500, Loss: 0.7994]\n",
      "Epoch [4/10], Step [100/500, Loss: 0.7862]\n",
      "Epoch [4/10], Step [200/500, Loss: 0.7192]\n",
      "Epoch [4/10], Step [300/500, Loss: 0.6698]\n",
      "Epoch [4/10], Step [400/500, Loss: 0.8473]\n",
      "Epoch [4/10], Step [500/500, Loss: 0.9068]\n",
      "Epoch [5/10], Step [100/500, Loss: 0.7788]\n",
      "Epoch [5/10], Step [200/500, Loss: 0.8087]\n",
      "Epoch [5/10], Step [300/500, Loss: 0.6519]\n",
      "Epoch [5/10], Step [400/500, Loss: 0.5798]\n",
      "Epoch [5/10], Step [500/500, Loss: 0.6934]\n",
      "Epoch [6/10], Step [100/500, Loss: 0.6445]\n",
      "Epoch [6/10], Step [200/500, Loss: 0.6900]\n",
      "Epoch [6/10], Step [300/500, Loss: 0.6100]\n",
      "Epoch [6/10], Step [400/500, Loss: 0.6707]\n",
      "Epoch [6/10], Step [500/500, Loss: 0.7744]\n",
      "Epoch [7/10], Step [100/500, Loss: 0.5317]\n",
      "Epoch [7/10], Step [200/500, Loss: 0.5961]\n",
      "Epoch [7/10], Step [300/500, Loss: 0.5538]\n",
      "Epoch [7/10], Step [400/500, Loss: 0.6261]\n",
      "Epoch [7/10], Step [500/500, Loss: 0.5405]\n",
      "Epoch [8/10], Step [100/500, Loss: 0.4512]\n",
      "Epoch [8/10], Step [200/500, Loss: 0.6422]\n",
      "Epoch [8/10], Step [300/500, Loss: 0.6368]\n",
      "Epoch [8/10], Step [400/500, Loss: 0.6491]\n",
      "Epoch [8/10], Step [500/500, Loss: 0.6887]\n",
      "Epoch [9/10], Step [100/500, Loss: 0.3153]\n",
      "Epoch [9/10], Step [200/500, Loss: 0.5842]\n",
      "Epoch [9/10], Step [300/500, Loss: 0.5017]\n",
      "Epoch [9/10], Step [400/500, Loss: 0.5707]\n",
      "Epoch [9/10], Step [500/500, Loss: 0.4173]\n",
      "Epoch [10/10], Step [100/500, Loss: 0.3286]\n",
      "Epoch [10/10], Step [200/500, Loss: 0.4112]\n",
      "Epoch [10/10], Step [300/500, Loss: 0.5942]\n",
      "Epoch [10/10], Step [400/500, Loss: 0.5595]\n",
      "Epoch [10/10], Step [500/500, Loss: 0.6422]\n"
     ]
    }
   ],
   "source": [
    "decay = 0\n",
    "model.train()\n",
    "for epoch in range(epochs):\n",
    "#     Decay the learning rate by a factor of 0.5 every 20 epochs\n",
    "    if epoch+1%20 == 0:\n",
    "        decay += 1 \n",
    "        optimizer.param_groups[0]['lr'] = learning_rate * (0.5**decay)\n",
    "        print(f\"The new learning rate is {optimizer.param_groups[0]['lr']}\")\n",
    "    for i, (images, labels) in enumerate(train_loader):\n",
    "        outputs = model(images)\n",
    "        loss = loss_fn(outputs, labels)\n",
    "        optimizer.zero_grad()\n",
    "        loss.backward()\n",
    "        optimizer.step()\n",
    "        \n",
    "        if (i+1) % 100 == 0:\n",
    "            print(f\"Epoch [{epoch+1}/{epochs}], Step [{i+1}/{len(train_loader)}, Loss: {loss.item():.4f}]\")"
   ]
  },
  {
   "cell_type": "code",
   "execution_count": 37,
   "metadata": {},
   "outputs": [
    {
     "name": "stdout",
     "output_type": "stream",
     "text": [
      "Accuracy of the model on the test images: 80.33 %\n"
     ]
    }
   ],
   "source": [
    "model.eval()\n",
    "with torch.no_grad():\n",
    "    correct = 0\n",
    "    total = 0\n",
    "    for images, labels in test_loader:\n",
    "        outputs = model(images)\n",
    "        _, predicted = torch.max(outputs.data, 1)\n",
    "        total += labels.size(0)\n",
    "        correct += (predicted == labels).sum().item()\n",
    "    print(f\"Accuracy of the model on the test images: {100*correct / total} %\")"
   ]
  },
  {
   "cell_type": "code",
   "execution_count": null,
   "metadata": {},
   "outputs": [],
   "source": []
  }
 ],
 "metadata": {
  "kernelspec": {
   "display_name": "Python 3",
   "language": "python",
   "name": "python3"
  },
  "language_info": {
   "codemirror_mode": {
    "name": "ipython",
    "version": 3
   },
   "file_extension": ".py",
   "mimetype": "text/x-python",
   "name": "python",
   "nbconvert_exporter": "python",
   "pygments_lexer": "ipython3",
   "version": "3.7.0"
  }
 },
 "nbformat": 4,
 "nbformat_minor": 4
}
